{
 "cells": [
  {
   "cell_type": "code",
   "execution_count": 1,
   "id": "8adfa7d8",
   "metadata": {},
   "outputs": [],
   "source": [
    "import cv2\n",
    "import pandas as pd\n",
    "import os"
   ]
  },
  {
   "cell_type": "markdown",
   "id": "5f858bc5",
   "metadata": {},
   "source": [
    "### Count Images by Resolution"
   ]
  },
  {
   "cell_type": "code",
   "execution_count": 2,
   "id": "8b00988c",
   "metadata": {},
   "outputs": [],
   "source": [
    "def count_images_by_resolution(folder_path):\n",
    "    image_count = {}\n",
    "\n",
    "    # Melakukan iterasi pada setiap item (file atau folder) dalam folder utama\n",
    "    for root, dirs, files in os.walk(folder_path):\n",
    "        for file_name in files:\n",
    "            # Mendapatkan path file\n",
    "            file_path = os.path.join(root, file_name)\n",
    "\n",
    "            # Memeriksa apakah file adalah gambar (misalnya dengan ekstensi .jpg, .jpeg, .png, dll.)\n",
    "            if file_name.lower().endswith(('.jpg', '.jpeg', '.png', '.gif')):\n",
    "                # Membaca gambar menggunakan OpenCV\n",
    "                image = cv2.imread(file_path)\n",
    "\n",
    "                # Mendapatkan resolusi gambar\n",
    "                resolution = f\"{image.shape[1]}x{image.shape[0]}\"\n",
    "\n",
    "                # Memperbarui dictionary image_count\n",
    "                if resolution in image_count:\n",
    "                    image_count[resolution] += 1\n",
    "                else:\n",
    "                    image_count[resolution] = 1\n",
    "\n",
    "    # Mengonversi dictionary menjadi dataframe\n",
    "    df = pd.DataFrame(list(image_count.items()), columns=['Resolution', 'Count'])\n",
    "\n",
    "    return df"
   ]
  },
  {
   "cell_type": "code",
   "execution_count": 3,
   "id": "b14ce568",
   "metadata": {},
   "outputs": [
    {
     "data": {
      "text/html": [
       "<div>\n",
       "<style scoped>\n",
       "    .dataframe tbody tr th:only-of-type {\n",
       "        vertical-align: middle;\n",
       "    }\n",
       "\n",
       "    .dataframe tbody tr th {\n",
       "        vertical-align: top;\n",
       "    }\n",
       "\n",
       "    .dataframe thead th {\n",
       "        text-align: right;\n",
       "    }\n",
       "</style>\n",
       "<table border=\"1\" class=\"dataframe\">\n",
       "  <thead>\n",
       "    <tr style=\"text-align: right;\">\n",
       "      <th></th>\n",
       "      <th>Resolution</th>\n",
       "      <th>Count</th>\n",
       "    </tr>\n",
       "  </thead>\n",
       "  <tbody>\n",
       "    <tr>\n",
       "      <th>0</th>\n",
       "      <td>1280x720</td>\n",
       "      <td>828</td>\n",
       "    </tr>\n",
       "    <tr>\n",
       "      <th>1</th>\n",
       "      <td>720x576</td>\n",
       "      <td>32</td>\n",
       "    </tr>\n",
       "  </tbody>\n",
       "</table>\n",
       "</div>"
      ],
      "text/plain": [
       "  Resolution  Count\n",
       "0   1280x720    828\n",
       "1    720x576     32"
      ]
     },
     "execution_count": 3,
     "metadata": {},
     "output_type": "execute_result"
    }
   ],
   "source": [
    "# Memanggil fungsi count_images_by_resolution dengan path folder yang diinginkan\n",
    "folder_path = 'datav2/'  # Ganti dengan path folder yang sesuai\n",
    "result_df = count_images_by_resolution(folder_path)\n",
    "result_df"
   ]
  },
  {
   "cell_type": "markdown",
   "id": "0bfa8e96",
   "metadata": {},
   "source": [
    "### Count Images for Each Categories by Filename"
   ]
  },
  {
   "cell_type": "code",
   "execution_count": 29,
   "id": "b228de22",
   "metadata": {},
   "outputs": [],
   "source": [
    "import os\n",
    "import pandas as pd\n",
    "\n",
    "def count_files_in_folders(parent_folder):\n",
    "    folder_count = {}\n",
    "\n",
    "    # Iterate over the root directory and its subdirectories\n",
    "    for root, dirs, files in os.walk(parent_folder):\n",
    "        folder_name = os.path.relpath(root, parent_folder)\n",
    "        \n",
    "        # Count the number of files in the current folder\n",
    "        file_count = len(files)\n",
    "        \n",
    "        # Update the folder_count dictionary\n",
    "        folder_count[folder_name] = file_count\n",
    "\n",
    "    # Convert the dictionary to a dataframe\n",
    "    df = pd.DataFrame(list(folder_count.items()), columns=['Folder/Subfolder', 'File Count'])\n",
    "\n",
    "    return df"
   ]
  },
  {
   "cell_type": "code",
   "execution_count": 31,
   "id": "be4ad3be",
   "metadata": {},
   "outputs": [
    {
     "data": {
      "text/html": [
       "<div>\n",
       "<style scoped>\n",
       "    .dataframe tbody tr th:only-of-type {\n",
       "        vertical-align: middle;\n",
       "    }\n",
       "\n",
       "    .dataframe tbody tr th {\n",
       "        vertical-align: top;\n",
       "    }\n",
       "\n",
       "    .dataframe thead th {\n",
       "        text-align: right;\n",
       "    }\n",
       "</style>\n",
       "<table border=\"1\" class=\"dataframe\">\n",
       "  <thead>\n",
       "    <tr style=\"text-align: right;\">\n",
       "      <th></th>\n",
       "      <th>Folder/Subfolder</th>\n",
       "      <th>File Count</th>\n",
       "    </tr>\n",
       "  </thead>\n",
       "  <tbody>\n",
       "    <tr>\n",
       "      <th>0</th>\n",
       "      <td>.</td>\n",
       "      <td>0</td>\n",
       "    </tr>\n",
       "    <tr>\n",
       "      <th>1</th>\n",
       "      <td>test</td>\n",
       "      <td>0</td>\n",
       "    </tr>\n",
       "    <tr>\n",
       "      <th>2</th>\n",
       "      <td>test\\Accident</td>\n",
       "      <td>47</td>\n",
       "    </tr>\n",
       "    <tr>\n",
       "      <th>3</th>\n",
       "      <td>test\\Non Accident</td>\n",
       "      <td>53</td>\n",
       "    </tr>\n",
       "    <tr>\n",
       "      <th>4</th>\n",
       "      <td>train</td>\n",
       "      <td>0</td>\n",
       "    </tr>\n",
       "    <tr>\n",
       "      <th>5</th>\n",
       "      <td>train\\Accident</td>\n",
       "      <td>369</td>\n",
       "    </tr>\n",
       "    <tr>\n",
       "      <th>6</th>\n",
       "      <td>train\\Non Accident</td>\n",
       "      <td>422</td>\n",
       "    </tr>\n",
       "    <tr>\n",
       "      <th>7</th>\n",
       "      <td>val</td>\n",
       "      <td>0</td>\n",
       "    </tr>\n",
       "    <tr>\n",
       "      <th>8</th>\n",
       "      <td>val\\Accident</td>\n",
       "      <td>46</td>\n",
       "    </tr>\n",
       "    <tr>\n",
       "      <th>9</th>\n",
       "      <td>val\\Non Accident</td>\n",
       "      <td>52</td>\n",
       "    </tr>\n",
       "  </tbody>\n",
       "</table>\n",
       "</div>"
      ],
      "text/plain": [
       "     Folder/Subfolder  File Count\n",
       "0                   .           0\n",
       "1                test           0\n",
       "2       test\\Accident          47\n",
       "3   test\\Non Accident          53\n",
       "4               train           0\n",
       "5      train\\Accident         369\n",
       "6  train\\Non Accident         422\n",
       "7                 val           0\n",
       "8        val\\Accident          46\n",
       "9    val\\Non Accident          52"
      ]
     },
     "execution_count": 31,
     "metadata": {},
     "output_type": "execute_result"
    }
   ],
   "source": [
    "# Set the parent folder path\n",
    "parent_folder = 'data/'  # Replace with the actual path to the parent folder\n",
    "# Count the files in folders and subfolders\n",
    "result_df = count_files_in_folders(parent_folder)\n",
    "result_df"
   ]
  },
  {
   "cell_type": "code",
   "execution_count": 37,
   "id": "e619a780",
   "metadata": {},
   "outputs": [
    {
     "name": "stdout",
     "output_type": "stream",
     "text": [
      "791\n"
     ]
    }
   ],
   "source": [
    "print(369+422)"
   ]
  },
  {
   "cell_type": "code",
   "execution_count": 33,
   "id": "adf18110",
   "metadata": {},
   "outputs": [
    {
     "name": "stdout",
     "output_type": "stream",
     "text": [
      "98\n"
     ]
    }
   ],
   "source": [
    "print(46+52)"
   ]
  },
  {
   "cell_type": "code",
   "execution_count": 34,
   "id": "1843b73a",
   "metadata": {},
   "outputs": [
    {
     "name": "stdout",
     "output_type": "stream",
     "text": [
      "100\n"
     ]
    }
   ],
   "source": [
    "print(47+53)"
   ]
  },
  {
   "cell_type": "code",
   "execution_count": 39,
   "id": "43be5e49",
   "metadata": {},
   "outputs": [
    {
     "data": {
      "text/plain": [
       "10.111223458038422"
      ]
     },
     "execution_count": 39,
     "metadata": {},
     "output_type": "execute_result"
    }
   ],
   "source": [
    "(100/989)*100"
   ]
  },
  {
   "cell_type": "code",
   "execution_count": null,
   "id": "59e32131",
   "metadata": {},
   "outputs": [],
   "source": []
  }
 ],
 "metadata": {
  "kernelspec": {
   "display_name": "Python [conda env:fachryds]",
   "language": "python",
   "name": "conda-env-fachryds-py"
  },
  "language_info": {
   "codemirror_mode": {
    "name": "ipython",
    "version": 3
   },
   "file_extension": ".py",
   "mimetype": "text/x-python",
   "name": "python",
   "nbconvert_exporter": "python",
   "pygments_lexer": "ipython3",
   "version": "3.8.15"
  },
  "varInspector": {
   "cols": {
    "lenName": 16,
    "lenType": 16,
    "lenVar": 40
   },
   "kernels_config": {
    "python": {
     "delete_cmd_postfix": "",
     "delete_cmd_prefix": "del ",
     "library": "var_list.py",
     "varRefreshCmd": "print(var_dic_list())"
    },
    "r": {
     "delete_cmd_postfix": ") ",
     "delete_cmd_prefix": "rm(",
     "library": "var_list.r",
     "varRefreshCmd": "cat(var_dic_list()) "
    }
   },
   "types_to_exclude": [
    "module",
    "function",
    "builtin_function_or_method",
    "instance",
    "_Feature"
   ],
   "window_display": false
  }
 },
 "nbformat": 4,
 "nbformat_minor": 5
}
