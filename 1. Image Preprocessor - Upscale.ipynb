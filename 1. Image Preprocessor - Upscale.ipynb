{
 "cells": [
  {
   "cell_type": "code",
   "execution_count": 2,
   "id": "15e26338",
   "metadata": {},
   "outputs": [],
   "source": [
    "import torch\n",
    "from PIL import Image\n",
    "import numpy as np\n",
    "from RealESRGAN import RealESRGAN\n",
    "\n",
    "# PSNR, SSIM\n",
    "from skimage.metrics import peak_signal_noise_ratio, structural_similarity\n",
    "\n",
    "# NIQE\n"
   ]
  },
  {
   "cell_type": "code",
   "execution_count": 5,
   "id": "3e126357",
   "metadata": {},
   "outputs": [],
   "source": [
    "device = torch.device('cuda' if torch.cuda.is_available() else 'cpu')\n",
    "\n",
    "model = RealESRGAN(device, scale=2)\n",
    "model.load_weights('RealESRGAN_x2.pth', download=True)\n",
    "\n",
    "path_to_image = 'test.jpg'\n",
    "image = Image.open(path_to_image).convert('RGB')\n",
    "\n",
    "sr_image = model.predict(image)\n",
    "sr_image.save('test_sr.jpg')"
   ]
  },
  {
   "cell_type": "code",
   "execution_count": 6,
   "id": "eeafaeae",
   "metadata": {},
   "outputs": [
    {
     "name": "stdout",
     "output_type": "stream",
     "text": [
      "PSNR: inf\n",
      "SSIM: 1.0\n"
     ]
    },
    {
     "name": "stderr",
     "output_type": "stream",
     "text": [
      "C:\\Users\\ASUS\\anaconda3\\envs\\pytorch_env\\lib\\site-packages\\skimage\\metrics\\simple_metrics.py:163: RuntimeWarning: divide by zero encountered in double_scalars\n",
      "  return 10 * np.log10((data_range ** 2) / err)\n",
      "C:\\Users\\ASUS\\AppData\\Local\\Temp\\ipykernel_14988\\1881664216.py:9: FutureWarning: `multichannel` is a deprecated argument name for `structural_similarity`. It will be removed in version 1.0. Please use `channel_axis` instead.\n",
      "  ssim = structural_similarity(original_np, original_np, multichannel=True)\n"
     ]
    }
   ],
   "source": [
    "# Convert PIL Image to numpy array\n",
    "original_np = np.array(image)\n",
    "sr_np = np.array(sr_image)\n",
    "\n",
    "# Calculate PSNR\n",
    "psnr = peak_signal_noise_ratio(original_np, sr_np)\n",
    "\n",
    "# Calculate SSIM\n",
    "ssim = structural_similarity(original_np, sr_np, multichannel=True)\n",
    "\n",
    "print(\"PSNR:\", psnr)\n",
    "print(\"SSIM:\", ssim)"
   ]
  },
  {
   "cell_type": "code",
   "execution_count": null,
   "id": "a69b4ee9",
   "metadata": {},
   "outputs": [],
   "source": []
  }
 ],
 "metadata": {
  "kernelspec": {
   "display_name": "Python [conda env:pytorch_env]",
   "language": "python",
   "name": "conda-env-pytorch_env-py"
  },
  "language_info": {
   "codemirror_mode": {
    "name": "ipython",
    "version": 3
   },
   "file_extension": ".py",
   "mimetype": "text/x-python",
   "name": "python",
   "nbconvert_exporter": "python",
   "pygments_lexer": "ipython3",
   "version": "3.8.16"
  },
  "varInspector": {
   "cols": {
    "lenName": 16,
    "lenType": 16,
    "lenVar": 40
   },
   "kernels_config": {
    "python": {
     "delete_cmd_postfix": "",
     "delete_cmd_prefix": "del ",
     "library": "var_list.py",
     "varRefreshCmd": "print(var_dic_list())"
    },
    "r": {
     "delete_cmd_postfix": ") ",
     "delete_cmd_prefix": "rm(",
     "library": "var_list.r",
     "varRefreshCmd": "cat(var_dic_list()) "
    }
   },
   "types_to_exclude": [
    "module",
    "function",
    "builtin_function_or_method",
    "instance",
    "_Feature"
   ],
   "window_display": false
  }
 },
 "nbformat": 4,
 "nbformat_minor": 5
}
