{
 "cells": [
  {
   "cell_type": "code",
   "execution_count": 4,
   "id": "0357c9fa",
   "metadata": {},
   "outputs": [],
   "source": [
    "import os\n",
    "import cv2\n",
    "import shutil"
   ]
  },
  {
   "cell_type": "code",
   "execution_count": 1,
   "id": "f6dac406",
   "metadata": {},
   "outputs": [
    {
     "data": {
      "text/plain": [
       "0.24900000000000003"
      ]
     },
     "execution_count": 1,
     "metadata": {},
     "output_type": "execute_result"
    }
   ],
   "source": [
    "(0.25+0.32+0.22+0.24+0.26+0.23+0.23+0.29+0.23+0.22)/10"
   ]
  },
  {
   "cell_type": "code",
   "execution_count": 2,
   "id": "71c6a94f",
   "metadata": {},
   "outputs": [
    {
     "data": {
      "text/plain": [
       "87.0"
      ]
     },
     "execution_count": 2,
     "metadata": {},
     "output_type": "execute_result"
    }
   ],
   "source": [
    "(74+83+97+100+61+58+100+100+100+97)/10"
   ]
  },
  {
   "cell_type": "markdown",
   "id": "a840d2a6",
   "metadata": {},
   "source": [
    "### Gather Images into One Folder"
   ]
  },
  {
   "cell_type": "code",
   "execution_count": 5,
   "id": "5208fc25",
   "metadata": {},
   "outputs": [],
   "source": [
    "def gather_images_to_onefolder(input_directory, output_directory):\n",
    "    # Check if the folder already exists\n",
    "    if not os.path.exists(output_directory):\n",
    "        os.makedirs(output_directory)\n",
    "        \n",
    "    for root, dirs, files in os.walk(input_directory):\n",
    "        for file in files:\n",
    "            filename, ext = os.path.splitext(file)\n",
    "            \n",
    "            # for copying we need source and destination path\n",
    "            source_path = os.path.join(root, file)\n",
    "            destination_path = os.path.join(output_directory, file)\n",
    "            \n",
    "            # copy all of the files to the destination path\n",
    "            shutil.copyfile(source_path, destination_path)\n",
    "    print('Images gathered')"
   ]
  },
  {
   "cell_type": "code",
   "execution_count": 6,
   "id": "82d90f24",
   "metadata": {},
   "outputs": [],
   "source": [
    "input_directory = 'datav3_testing/'\n",
    "output_directory = 'datav3_testing_preprocessed/'"
   ]
  },
  {
   "cell_type": "code",
   "execution_count": 7,
   "id": "35e7431c",
   "metadata": {},
   "outputs": [],
   "source": [
    "gather_images_to_onefolder(input_directory, output_directory)"
   ]
  },
  {
   "cell_type": "code",
   "execution_count": null,
   "id": "d8039e7e",
   "metadata": {},
   "outputs": [],
   "source": []
  },
  {
   "cell_type": "markdown",
   "id": "14fe188f",
   "metadata": {},
   "source": [
    "### Image Downscaling (x2, x4, x8)"
   ]
  },
  {
   "cell_type": "code",
   "execution_count": 19,
   "id": "d3bda7e0",
   "metadata": {},
   "outputs": [],
   "source": [
    "def downscale_image(input_directory, output_directory, downscale_factor):\n",
    "    # create output directory if it doesn't exists\n",
    "    if not os.path.exists(output_directory):\n",
    "        os.makedirs(output_directory)\n",
    "    \n",
    "    for file in os.listdir(input_directory):\n",
    "        # Read the image\n",
    "        image_path = os.path.join(input_directory, file)\n",
    "        image = cv2.imread(image_path)\n",
    "\n",
    "        # Downsample the image to the factor of x\n",
    "        # Calculate the target size for downsampling\n",
    "        target_width = image.shape[1] // downscale_factor\n",
    "        target_height = image.shape[0] // downscale_factor\n",
    "\n",
    "        # Resize the image using cv2.resize with bicubic interpolation\n",
    "        downsampled_image = cv2.resize(image, (target_width, target_height), interpolation=cv2.INTER_CUBIC)\n",
    "\n",
    "        # Save the resized image to the output directory\n",
    "        output_path = os.path.join(output_directory, file)\n",
    "        cv2.imwrite(output_path, downsampled_image)\n",
    "\n",
    "    print(\"Image transformation completed!\")"
   ]
  },
  {
   "cell_type": "code",
   "execution_count": 24,
   "id": "17c8327b",
   "metadata": {},
   "outputs": [],
   "source": [
    "input_directory = 'datav3_testing_preprocessed/'\n",
    "output_directory = 'datav3_testing_LRX8_preprocessed/'\n",
    "factor = 8"
   ]
  },
  {
   "cell_type": "code",
   "execution_count": 25,
   "id": "400f3104",
   "metadata": {},
   "outputs": [
    {
     "name": "stdout",
     "output_type": "stream",
     "text": [
      "Image transformation completed!\n"
     ]
    }
   ],
   "source": [
    "downscale_image(input_directory, output_directory, factor)"
   ]
  },
  {
   "cell_type": "code",
   "execution_count": null,
   "id": "90564039",
   "metadata": {},
   "outputs": [],
   "source": []
  }
 ],
 "metadata": {
  "kernelspec": {
   "display_name": "Python [conda env:fachryds]",
   "language": "python",
   "name": "conda-env-fachryds-py"
  },
  "language_info": {
   "codemirror_mode": {
    "name": "ipython",
    "version": 3
   },
   "file_extension": ".py",
   "mimetype": "text/x-python",
   "name": "python",
   "nbconvert_exporter": "python",
   "pygments_lexer": "ipython3",
   "version": "3.8.15"
  },
  "varInspector": {
   "cols": {
    "lenName": 16,
    "lenType": 16,
    "lenVar": 40
   },
   "kernels_config": {
    "python": {
     "delete_cmd_postfix": "",
     "delete_cmd_prefix": "del ",
     "library": "var_list.py",
     "varRefreshCmd": "print(var_dic_list())"
    },
    "r": {
     "delete_cmd_postfix": ") ",
     "delete_cmd_prefix": "rm(",
     "library": "var_list.r",
     "varRefreshCmd": "cat(var_dic_list()) "
    }
   },
   "types_to_exclude": [
    "module",
    "function",
    "builtin_function_or_method",
    "instance",
    "_Feature"
   ],
   "window_display": false
  }
 },
 "nbformat": 4,
 "nbformat_minor": 5
}
